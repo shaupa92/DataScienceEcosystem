{
 "cells": [
  {
   "cell_type": "markdown",
   "id": "3d5cadd5-5e21-418b-9de2-b7057cacbd2a",
   "metadata": {},
   "source": [
    "# Data Science Tools and Ecosystem\n"
   ]
  },
  {
   "cell_type": "markdown",
   "id": "e034e3b7-e207-424e-8e10-259b61b041cf",
   "metadata": {},
   "source": [
    "In this notebook, Data Science Tools and Ecosystem are summarized"
   ]
  },
  {
   "cell_type": "markdown",
   "id": "17f13d60-9478-4583-a649-dcad21579147",
   "metadata": {},
   "source": [
    "**Objectives**\n",
    "* We will learn to use Markdown\n",
    "* We will learn to use basic arithmetic operations.\n",
    "* Popular Data Science Tools are Watson Studio, IBM Cognos Analytics etc.\n",
    "* Popular Languages for Data Science are Python, R, Julia etc.\n",
    "* Popular Libraries are Pandas,Numpy,Matplotlib"
   ]
  },
  {
   "cell_type": "markdown",
   "id": "da76dcb9-f87a-416f-9eed-1716e39ffd47",
   "metadata": {},
   "source": [
    "Some of the popular languages that Data Scientists use are:"
   ]
  },
  {
   "cell_type": "markdown",
   "id": "bc9d6f15-ade0-4797-bc97-72ff969623e4",
   "metadata": {},
   "source": [
    "|Serial Number|Name of the Language|\n",
    "|-------------|--------------------|\n",
    "|1.|PYTHON|\n",
    "|2.|R|\n",
    "|3.|SQL|"
   ]
  },
  {
   "cell_type": "markdown",
   "id": "8dc4025c-9f4e-4b70-918e-8e5e16a81c20",
   "metadata": {},
   "source": [
    "|Serial Number|Name of the Library|\n",
    "|-------------|--------------------|\n",
    "|1.|Pandas|\n",
    "|2.|Numpy|\n",
    "|3.|Matplotlib|\n",
    "|4.|Seaborn|"
   ]
  },
  {
   "cell_type": "markdown",
   "id": "ae9d28dd-fdda-4c0c-a215-7a8423c6298f",
   "metadata": {},
   "source": [
    "|DATA SCIENCE TOOL|\n",
    "|-------------|\n",
    "|WATSON STUDIO|\n",
    "|MICROSOFT POWER BI|\n",
    "|IBM COGNOS ANALYTICS|"
   ]
  },
  {
   "cell_type": "markdown",
   "id": "53a7181e-cd36-4f28-a918-ff42c440735f",
   "metadata": {},
   "source": [
    "### Below are a few examples of evaluating arithmetic expressions in Python"
   ]
  },
  {
   "cell_type": "code",
   "execution_count": 12,
   "id": "93a5cdaa-0902-4ff0-9dc2-6c319a285bda",
   "metadata": {},
   "outputs": [
    {
     "data": {
      "text/plain": [
       "17"
      ]
     },
     "execution_count": 12,
     "metadata": {},
     "output_type": "execute_result"
    }
   ],
   "source": [
    "#This a simple arithmetic expression to mutiply then add integers\n",
    "(3*4)+5"
   ]
  },
  {
   "cell_type": "code",
   "execution_count": 14,
   "id": "0aa39473-dbc0-4732-bd1b-988d2e956198",
   "metadata": {},
   "outputs": [
    {
     "data": {
      "text/plain": [
       "3.3333333333333335"
      ]
     },
     "execution_count": 14,
     "metadata": {},
     "output_type": "execute_result"
    }
   ],
   "source": [
    "#This will convert 200 minutes to hours by diving by 60\n",
    "200/60"
   ]
  },
  {
   "cell_type": "markdown",
   "id": "1128d1fe-7afe-4373-a2ea-97d0144ff57c",
   "metadata": {},
   "source": [
    "## Author"
   ]
  },
  {
   "cell_type": "markdown",
   "id": "39b90581-833f-41f6-8363-07cf2c5400c1",
   "metadata": {},
   "source": [
    "Aman Verma"
   ]
  },
  {
   "cell_type": "code",
   "execution_count": null,
   "id": "a768c590-b191-4ec7-bdeb-8df91a03572b",
   "metadata": {},
   "outputs": [],
   "source": []
  }
 ],
 "metadata": {
  "kernelspec": {
   "display_name": "Python 3 (ipykernel)",
   "language": "python",
   "name": "python3"
  },
  "language_info": {
   "codemirror_mode": {
    "name": "ipython",
    "version": 3
   },
   "file_extension": ".py",
   "mimetype": "text/x-python",
   "name": "python",
   "nbconvert_exporter": "python",
   "pygments_lexer": "ipython3",
   "version": "3.12.4"
  }
 },
 "nbformat": 4,
 "nbformat_minor": 5
}
